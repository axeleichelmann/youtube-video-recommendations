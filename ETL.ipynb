{
 "cells": [
  {
   "cell_type": "markdown",
   "metadata": {},
   "source": [
    "# ETL Noteboook"
   ]
  },
  {
   "cell_type": "code",
   "execution_count": 3,
   "metadata": {},
   "outputs": [],
   "source": [
    "import requests\n",
    "import json\n",
    "import pandas as pd\n",
    "from datetime import datetime\n",
    "\n",
    "from youtube_transcript_api import YouTubeTranscriptApi\n",
    "import os\n",
    "\n"
   ]
  },
  {
   "cell_type": "markdown",
   "metadata": {},
   "source": [
    "### Utility Functions"
   ]
  },
  {
   "cell_type": "code",
   "execution_count": 4,
   "metadata": {},
   "outputs": [],
   "source": [
    "def getVideoRecords(response: requests.models.Response) -> list:\n",
    "    \"\"\"\n",
    "        Function to extract YouTube video data from GET request response\n",
    "    \"\"\"\n",
    "\n",
    "    video_record_list = []\n",
    "    \n",
    "    for raw_item in json.loads(response.text)['items']:\n",
    "    \n",
    "        # only execute for youtube videos (i.e. Don't include shorts)\n",
    "        if raw_item['id']['kind'] != \"youtube#video\":\n",
    "            continue\n",
    "        \n",
    "        video_record = {}\n",
    "        video_record['video_id'] = raw_item['id']['videoId']\n",
    "        video_record['datetime'] = raw_item['snippet']['publishedAt']\n",
    "        video_record['title'] = raw_item['snippet']['title']\n",
    "        \n",
    "        video_record_list.append(video_record)\n",
    "\n",
    "    return video_record_list"
   ]
  },
  {
   "cell_type": "code",
   "execution_count": 5,
   "metadata": {},
   "outputs": [],
   "source": [
    "def extractTranscript(transcript: list) -> str:\n",
    "    \"\"\"\n",
    "        Function to extract video transcript text\n",
    "    \"\"\"\n",
    "    \n",
    "    text_list = [transcript[i]['text'] for i in range(len(transcript))]\n",
    "    return ' '.join(text_list)"
   ]
  },
  {
   "cell_type": "code",
   "execution_count": null,
   "metadata": {},
   "outputs": [],
   "source": []
  },
  {
   "cell_type": "markdown",
   "metadata": {},
   "source": [
    "### Extract Sylve Von-Duuglas Ittu's YouTube Video Record Data"
   ]
  },
  {
   "cell_type": "code",
   "execution_count": 6,
   "metadata": {},
   "outputs": [],
   "source": [
    "# Define fixed parameters for Youtube API requests\n",
    "channel_id = \"UCgFe05f-DrPpaunE4Gaz3cQ\"   # Sylvie von Duuglas-Ittu's Channel ID\n",
    "yt_search_url = 'https://www.googleapis.com/youtube/v3/search'    # Define youtube search API url\n",
    "yt_api_key = os.getenv('YT_API_KEY')    # Define personal youtube API access key\n",
    "\n",
    "# Initialize page token & list in which to store video data\n",
    "page_token = None\n",
    "video_record_list = []"
   ]
  },
  {
   "cell_type": "code",
   "execution_count": 7,
   "metadata": {},
   "outputs": [],
   "source": [
    "# Extract video data for API search results\n",
    "while page_token!=0:\n",
    "    # define API request parameters\n",
    "    params = {'key' : yt_api_key, 'channelId' : channel_id,\n",
    "              'part' : [\"snippet\", \"id\"], 'order' : \"date\",\n",
    "              'maxResults' : 50, 'pageToken' : page_token}\n",
    "    \n",
    "    # Make API request\n",
    "    response = requests.get(yt_search_url, params=params)\n",
    "    video_record_list += getVideoRecords(response)\n",
    "\n",
    "    try:\n",
    "        # Get next page token\n",
    "        page_token = json.loads(response.text)[\"nextPageToken\"]\n",
    "    except:\n",
    "        # If no next page token, kill while loop\n",
    "        page_token = 0"
   ]
  },
  {
   "cell_type": "code",
   "execution_count": 8,
   "metadata": {},
   "outputs": [
    {
     "data": {
      "text/html": [
       "<div>\n",
       "<style scoped>\n",
       "    .dataframe tbody tr th:only-of-type {\n",
       "        vertical-align: middle;\n",
       "    }\n",
       "\n",
       "    .dataframe tbody tr th {\n",
       "        vertical-align: top;\n",
       "    }\n",
       "\n",
       "    .dataframe thead th {\n",
       "        text-align: right;\n",
       "    }\n",
       "</style>\n",
       "<table border=\"1\" class=\"dataframe\">\n",
       "  <thead>\n",
       "    <tr style=\"text-align: right;\">\n",
       "      <th></th>\n",
       "      <th>video_id</th>\n",
       "      <th>datetime</th>\n",
       "      <th>title</th>\n",
       "    </tr>\n",
       "  </thead>\n",
       "  <tbody>\n",
       "    <tr>\n",
       "      <th>0</th>\n",
       "      <td>S2rqRaL1P8w</td>\n",
       "      <td>2024-12-03T02:48:10Z</td>\n",
       "      <td>What Was It Like Boxing After So Many Muay Tha...</td>\n",
       "    </tr>\n",
       "    <tr>\n",
       "      <th>1</th>\n",
       "      <td>jquPsuLggI0</td>\n",
       "      <td>2024-11-30T07:52:58Z</td>\n",
       "      <td>Post Fight Update - 1st &amp;quot;Official&amp;quot; B...</td>\n",
       "    </tr>\n",
       "    <tr>\n",
       "      <th>2</th>\n",
       "      <td>J2b5ziNb2Mg</td>\n",
       "      <td>2024-11-29T03:17:38Z</td>\n",
       "      <td>Fight 177 - Sylvie vs Nantida Sitweerachat wit...</td>\n",
       "    </tr>\n",
       "    <tr>\n",
       "      <th>3</th>\n",
       "      <td>5kFbuiLXvsU</td>\n",
       "      <td>2024-11-20T09:56:40Z</td>\n",
       "      <td>Vlog - dogs, treats, and my favorite old lady.</td>\n",
       "    </tr>\n",
       "    <tr>\n",
       "      <th>4</th>\n",
       "      <td>lswgCMqcOZQ</td>\n",
       "      <td>2024-11-12T03:54:44Z</td>\n",
       "      <td>Boxing, Sparring, Breast Tissue Health, Gettin...</td>\n",
       "    </tr>\n",
       "  </tbody>\n",
       "</table>\n",
       "</div>"
      ],
      "text/plain": [
       "      video_id              datetime  \\\n",
       "0  S2rqRaL1P8w  2024-12-03T02:48:10Z   \n",
       "1  jquPsuLggI0  2024-11-30T07:52:58Z   \n",
       "2  J2b5ziNb2Mg  2024-11-29T03:17:38Z   \n",
       "3  5kFbuiLXvsU  2024-11-20T09:56:40Z   \n",
       "4  lswgCMqcOZQ  2024-11-12T03:54:44Z   \n",
       "\n",
       "                                               title  \n",
       "0  What Was It Like Boxing After So Many Muay Tha...  \n",
       "1  Post Fight Update - 1st &quot;Official&quot; B...  \n",
       "2  Fight 177 - Sylvie vs Nantida Sitweerachat wit...  \n",
       "3     Vlog - dogs, treats, and my favorite old lady.  \n",
       "4  Boxing, Sparring, Breast Tissue Health, Gettin...  "
      ]
     },
     "execution_count": 8,
     "metadata": {},
     "output_type": "execute_result"
    }
   ],
   "source": [
    "# Store video record data in a Pandas DataFrame\n",
    "df = pd.DataFrame(video_record_list)\n",
    "df.head()"
   ]
  },
  {
   "cell_type": "markdown",
   "metadata": {},
   "source": [
    "### Extract Video Transcript Text"
   ]
  },
  {
   "cell_type": "code",
   "execution_count": 9,
   "metadata": {},
   "outputs": [],
   "source": [
    "# Initialize a list to store video captions\n",
    "transcript_text_list = []\n",
    "\n",
    "# Loop through each row of videos dataframe\n",
    "for i in range(len(df)):\n",
    "    # Try to extract captions\n",
    "    try:\n",
    "        # get transcript\n",
    "        transcript = YouTubeTranscriptApi.get_transcript(df['video_id'][i])\n",
    "        transcript_text = extractTranscript(transcript)\n",
    "    except:\n",
    "        # If no captions available set transcript text to \"n/a\"\n",
    "        transcript_text = \"n/a\"\n",
    "    # Append transcript text to list\n",
    "    transcript_text_list.append(transcript_text)"
   ]
  },
  {
   "cell_type": "code",
   "execution_count": 10,
   "metadata": {},
   "outputs": [
    {
     "data": {
      "text/html": [
       "<div>\n",
       "<style scoped>\n",
       "    .dataframe tbody tr th:only-of-type {\n",
       "        vertical-align: middle;\n",
       "    }\n",
       "\n",
       "    .dataframe tbody tr th {\n",
       "        vertical-align: top;\n",
       "    }\n",
       "\n",
       "    .dataframe thead th {\n",
       "        text-align: right;\n",
       "    }\n",
       "</style>\n",
       "<table border=\"1\" class=\"dataframe\">\n",
       "  <thead>\n",
       "    <tr style=\"text-align: right;\">\n",
       "      <th></th>\n",
       "      <th>video_id</th>\n",
       "      <th>datetime</th>\n",
       "      <th>title</th>\n",
       "      <th>transcript</th>\n",
       "    </tr>\n",
       "  </thead>\n",
       "  <tbody>\n",
       "    <tr>\n",
       "      <th>0</th>\n",
       "      <td>S2rqRaL1P8w</td>\n",
       "      <td>2024-12-03T02:48:10Z</td>\n",
       "      <td>What Was It Like Boxing After So Many Muay Tha...</td>\n",
       "      <td>howdy welcome to my run cast I'm so excited be...</td>\n",
       "    </tr>\n",
       "    <tr>\n",
       "      <th>1</th>\n",
       "      <td>jquPsuLggI0</td>\n",
       "      <td>2024-11-30T07:52:58Z</td>\n",
       "      <td>Post Fight Update - 1st &amp;quot;Official&amp;quot; B...</td>\n",
       "      <td>hey so I am outside of the Tai payak gym here ...</td>\n",
       "    </tr>\n",
       "    <tr>\n",
       "      <th>2</th>\n",
       "      <td>J2b5ziNb2Mg</td>\n",
       "      <td>2024-11-29T03:17:38Z</td>\n",
       "      <td>Fight 177 - Sylvie vs Nantida Sitweerachat wit...</td>\n",
       "      <td>this is a fight up in nong bua cope which is k...</td>\n",
       "    </tr>\n",
       "    <tr>\n",
       "      <th>3</th>\n",
       "      <td>5kFbuiLXvsU</td>\n",
       "      <td>2024-11-20T09:56:40Z</td>\n",
       "      <td>Vlog - dogs, treats, and my favorite old lady.</td>\n",
       "      <td>so I just had to explain to my little dog frie...</td>\n",
       "    </tr>\n",
       "    <tr>\n",
       "      <th>4</th>\n",
       "      <td>lswgCMqcOZQ</td>\n",
       "      <td>2024-11-12T03:54:44Z</td>\n",
       "      <td>Boxing, Sparring, Breast Tissue Health, Gettin...</td>\n",
       "      <td>howdy howdy welcome to my runcast it's been a ...</td>\n",
       "    </tr>\n",
       "  </tbody>\n",
       "</table>\n",
       "</div>"
      ],
      "text/plain": [
       "      video_id              datetime  \\\n",
       "0  S2rqRaL1P8w  2024-12-03T02:48:10Z   \n",
       "1  jquPsuLggI0  2024-11-30T07:52:58Z   \n",
       "2  J2b5ziNb2Mg  2024-11-29T03:17:38Z   \n",
       "3  5kFbuiLXvsU  2024-11-20T09:56:40Z   \n",
       "4  lswgCMqcOZQ  2024-11-12T03:54:44Z   \n",
       "\n",
       "                                               title  \\\n",
       "0  What Was It Like Boxing After So Many Muay Tha...   \n",
       "1  Post Fight Update - 1st &quot;Official&quot; B...   \n",
       "2  Fight 177 - Sylvie vs Nantida Sitweerachat wit...   \n",
       "3     Vlog - dogs, treats, and my favorite old lady.   \n",
       "4  Boxing, Sparring, Breast Tissue Health, Gettin...   \n",
       "\n",
       "                                          transcript  \n",
       "0  howdy welcome to my run cast I'm so excited be...  \n",
       "1  hey so I am outside of the Tai payak gym here ...  \n",
       "2  this is a fight up in nong bua cope which is k...  \n",
       "3  so I just had to explain to my little dog frie...  \n",
       "4  howdy howdy welcome to my runcast it's been a ...  "
      ]
     },
     "execution_count": 10,
     "metadata": {},
     "output_type": "execute_result"
    }
   ],
   "source": [
    "# Add video transcripts to dataframe\n",
    "df['transcript'] = pd.Series(transcript_text_list)\n",
    "df.head()"
   ]
  },
  {
   "cell_type": "markdown",
   "metadata": {},
   "source": [
    "### Transform Process : Clean data & transform it into a usable format for the ML Model"
   ]
  },
  {
   "cell_type": "code",
   "execution_count": 11,
   "metadata": {},
   "outputs": [
    {
     "name": "stdout",
     "output_type": "stream",
     "text": [
      "shape :  (500, 4)\n",
      "num unqiue rows :  500\n",
      "num unique entries in video_id column :  500\n",
      "num unique entries in datetime column :  500\n",
      "num unique entries in title column :  500\n",
      "num unique entries in transcript column :  414\n"
     ]
    }
   ],
   "source": [
    "# Check for duplicates\n",
    "print(\"shape : \", df.shape)\n",
    "print(\"num unqiue rows : \", df.shape[0] - sum(df.duplicated()))\n",
    "for column in df.nunique().index:\n",
    "    print(f\"num unique entries in {column} column : \", df.nunique()[column])"
   ]
  },
  {
   "cell_type": "code",
   "execution_count": 20,
   "metadata": {},
   "outputs": [],
   "source": [
    "# Reformat datetime column\n",
    "df['datetime'] = df.datetime.apply(lambda x : datetime.strptime(x, '%Y-%m-%dT%H:%M:%SZ'))"
   ]
  },
  {
   "cell_type": "code",
   "execution_count": 34,
   "metadata": {},
   "outputs": [],
   "source": [
    "# Replace each strings that appears in title and transcript columns\n",
    "string_replacements = {'&quot;' : '\"', '&#39;' : \"'\", \"[Music]\" : \"\"}\n",
    "\n",
    "for string in string_replacements.keys():\n",
    "    df['title'] = df.title.apply(lambda x : x.replace(string, string_replacements[string]))\n",
    "    df['transcript'] = df.transcript.apply(lambda x : x.replace(string, string_replacements[string]))"
   ]
  },
  {
   "cell_type": "code",
   "execution_count": 35,
   "metadata": {},
   "outputs": [
    {
     "data": {
      "text/html": [
       "<div>\n",
       "<style scoped>\n",
       "    .dataframe tbody tr th:only-of-type {\n",
       "        vertical-align: middle;\n",
       "    }\n",
       "\n",
       "    .dataframe tbody tr th {\n",
       "        vertical-align: top;\n",
       "    }\n",
       "\n",
       "    .dataframe thead th {\n",
       "        text-align: right;\n",
       "    }\n",
       "</style>\n",
       "<table border=\"1\" class=\"dataframe\">\n",
       "  <thead>\n",
       "    <tr style=\"text-align: right;\">\n",
       "      <th></th>\n",
       "      <th>video_id</th>\n",
       "      <th>datetime</th>\n",
       "      <th>title</th>\n",
       "      <th>transcript</th>\n",
       "    </tr>\n",
       "  </thead>\n",
       "  <tbody>\n",
       "    <tr>\n",
       "      <th>0</th>\n",
       "      <td>S2rqRaL1P8w</td>\n",
       "      <td>2024-12-03 02:48:10</td>\n",
       "      <td>What Was It Like Boxing After So Many Muay Tha...</td>\n",
       "      <td>howdy welcome to my run cast I'm so excited be...</td>\n",
       "    </tr>\n",
       "    <tr>\n",
       "      <th>1</th>\n",
       "      <td>jquPsuLggI0</td>\n",
       "      <td>2024-11-30 07:52:58</td>\n",
       "      <td>Post Fight Update - 1st \"Official\" Boxing Fight</td>\n",
       "      <td>hey so I am outside of the Tai payak gym here ...</td>\n",
       "    </tr>\n",
       "    <tr>\n",
       "      <th>2</th>\n",
       "      <td>J2b5ziNb2Mg</td>\n",
       "      <td>2024-11-29 03:17:38</td>\n",
       "      <td>Fight 177 - Sylvie vs Nantida Sitweerachat wit...</td>\n",
       "      <td>this is a fight up in nong bua cope which is k...</td>\n",
       "    </tr>\n",
       "    <tr>\n",
       "      <th>3</th>\n",
       "      <td>5kFbuiLXvsU</td>\n",
       "      <td>2024-11-20 09:56:40</td>\n",
       "      <td>Vlog - dogs, treats, and my favorite old lady.</td>\n",
       "      <td>so I just had to explain to my little dog frie...</td>\n",
       "    </tr>\n",
       "    <tr>\n",
       "      <th>4</th>\n",
       "      <td>lswgCMqcOZQ</td>\n",
       "      <td>2024-11-12 03:54:44</td>\n",
       "      <td>Boxing, Sparring, Breast Tissue Health, Gettin...</td>\n",
       "      <td>howdy howdy welcome to my runcast it's been a ...</td>\n",
       "    </tr>\n",
       "  </tbody>\n",
       "</table>\n",
       "</div>"
      ],
      "text/plain": [
       "      video_id            datetime  \\\n",
       "0  S2rqRaL1P8w 2024-12-03 02:48:10   \n",
       "1  jquPsuLggI0 2024-11-30 07:52:58   \n",
       "2  J2b5ziNb2Mg 2024-11-29 03:17:38   \n",
       "3  5kFbuiLXvsU 2024-11-20 09:56:40   \n",
       "4  lswgCMqcOZQ 2024-11-12 03:54:44   \n",
       "\n",
       "                                               title  \\\n",
       "0  What Was It Like Boxing After So Many Muay Tha...   \n",
       "1    Post Fight Update - 1st \"Official\" Boxing Fight   \n",
       "2  Fight 177 - Sylvie vs Nantida Sitweerachat wit...   \n",
       "3     Vlog - dogs, treats, and my favorite old lady.   \n",
       "4  Boxing, Sparring, Breast Tissue Health, Gettin...   \n",
       "\n",
       "                                          transcript  \n",
       "0  howdy welcome to my run cast I'm so excited be...  \n",
       "1  hey so I am outside of the Tai payak gym here ...  \n",
       "2  this is a fight up in nong bua cope which is k...  \n",
       "3  so I just had to explain to my little dog frie...  \n",
       "4  howdy howdy welcome to my runcast it's been a ...  "
      ]
     },
     "execution_count": 35,
     "metadata": {},
     "output_type": "execute_result"
    }
   ],
   "source": [
    "df.head()"
   ]
  },
  {
   "cell_type": "markdown",
   "metadata": {},
   "source": [
    "### Load Process : Load the clean & transformed data into the project's 'data' directory"
   ]
  },
  {
   "cell_type": "code",
   "execution_count": 37,
   "metadata": {},
   "outputs": [],
   "source": [
    "# Save data as parquet file\n",
    "df.to_parquet('data/video-transcripts.parquet')"
   ]
  }
 ],
 "metadata": {
  "kernelspec": {
   "display_name": "env",
   "language": "python",
   "name": "python3"
  },
  "language_info": {
   "codemirror_mode": {
    "name": "ipython",
    "version": 3
   },
   "file_extension": ".py",
   "mimetype": "text/x-python",
   "name": "python",
   "nbconvert_exporter": "python",
   "pygments_lexer": "ipython3",
   "version": "3.11.6"
  }
 },
 "nbformat": 4,
 "nbformat_minor": 2
}
